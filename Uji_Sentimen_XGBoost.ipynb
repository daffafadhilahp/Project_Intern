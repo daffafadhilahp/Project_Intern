{
 "cells": [
  {
   "cell_type": "code",
   "execution_count": 1,
   "id": "a08cac24",
   "metadata": {},
   "outputs": [],
   "source": [
    "import pandas as pd\n",
    "import matplotlib.pyplot as plt\n",
    "from sklearn.preprocessing import LabelEncoder\n",
    "from sklearn.model_selection import train_test_split\n",
    "from sklearn.feature_extraction.text import CountVectorizer\n",
    "from xgboost import XGBClassifier\n",
    "from sklearn.metrics import accuracy_score"
   ]
  },
  {
   "cell_type": "code",
   "execution_count": 2,
   "id": "521e2f30",
   "metadata": {},
   "outputs": [],
   "source": [
    "# Load dataset (ganti 'nama_file.csv' dengan nama file dataset Anda)\n",
    "df = pd.read_csv('C:/Users/dfadh/Downloads/Analisis sentimen/hasil__Analisis.csv')\n"
   ]
  },
  {
   "cell_type": "code",
   "execution_count": 3,
   "id": "ab24c035",
   "metadata": {},
   "outputs": [
    {
     "data": {
      "text/html": [
       "<div>\n",
       "<style scoped>\n",
       "    .dataframe tbody tr th:only-of-type {\n",
       "        vertical-align: middle;\n",
       "    }\n",
       "\n",
       "    .dataframe tbody tr th {\n",
       "        vertical-align: top;\n",
       "    }\n",
       "\n",
       "    .dataframe thead th {\n",
       "        text-align: right;\n",
       "    }\n",
       "</style>\n",
       "<table border=\"1\" class=\"dataframe\">\n",
       "  <thead>\n",
       "    <tr style=\"text-align: right;\">\n",
       "      <th></th>\n",
       "      <th>Pilpres 2024</th>\n",
       "      <th>Unnamed: 1</th>\n",
       "      <th>Unnamed: 2</th>\n",
       "      <th>Unnamed: 3</th>\n",
       "      <th>Unnamed: 4</th>\n",
       "      <th>Unnamed: 5</th>\n",
       "      <th>Unnamed: 6</th>\n",
       "      <th>Unnamed: 7</th>\n",
       "      <th>Unnamed: 8</th>\n",
       "      <th>Unnamed: 9</th>\n",
       "      <th>Mentions</th>\n",
       "      <th>Translated_Text</th>\n",
       "      <th>Sentiment</th>\n",
       "    </tr>\n",
       "  </thead>\n",
       "  <tbody>\n",
       "    <tr>\n",
       "      <th>0</th>\n",
       "      <td>10000</td>\n",
       "      <td>rt</td>\n",
       "      <td>RT @bachrum_achmadi: Said Iqbal Partai Buruh D...</td>\n",
       "      <td>2023-04-28 07:26:12</td>\n",
       "      <td>Twitter</td>\n",
       "      <td>Positive</td>\n",
       "      <td>@donnyx17 (donnyx abu hayder)</td>\n",
       "      <td>15</td>\n",
       "      <td>122</td>\n",
       "      <td>0</td>\n",
       "      <td>said iqbal partai buruh dukung ganjar capres pdip</td>\n",
       "      <td>Said Iqbal, the Labor Party supports the PDIP ...</td>\n",
       "      <td>positif</td>\n",
       "    </tr>\n",
       "    <tr>\n",
       "      <th>1</th>\n",
       "      <td>10001</td>\n",
       "      <td>mention</td>\n",
       "      <td>Banyak sliweran capres cawapres ,,hemm</td>\n",
       "      <td>2023-04-28 07:26:12</td>\n",
       "      <td>Twitter</td>\n",
       "      <td>Positive</td>\n",
       "      <td>@oxtutiexx235 (mboketata)</td>\n",
       "      <td>459</td>\n",
       "      <td>0</td>\n",
       "      <td>0</td>\n",
       "      <td>banyak sliweran capres cawapres hemm</td>\n",
       "      <td>lots of presidential cawapres candidates hemm</td>\n",
       "      <td>netral</td>\n",
       "    </tr>\n",
       "    <tr>\n",
       "      <th>2</th>\n",
       "      <td>10002</td>\n",
       "      <td>rt</td>\n",
       "      <td>RT @tvOneNews: Kemarin PSI Bangga Deklarasikan...</td>\n",
       "      <td>2023-04-28 07:26:11</td>\n",
       "      <td>Twitter</td>\n",
       "      <td>Positive</td>\n",
       "      <td>@DadangBudiman14 (Dadang Budiman)</td>\n",
       "      <td>26</td>\n",
       "      <td>122</td>\n",
       "      <td>0</td>\n",
       "      <td>kemarin psi bangga deklarasikan ganjar capres ...</td>\n",
       "      <td>Yesterday, PSI was proud to declare the reward...</td>\n",
       "      <td>positif</td>\n",
       "    </tr>\n",
       "    <tr>\n",
       "      <th>3</th>\n",
       "      <td>10003</td>\n",
       "      <td>mention</td>\n",
       "      <td>Aq pilih Ã¢ÂÂ¦@ganjarpranowoÃ¢ÂÂ© lah krn di...</td>\n",
       "      <td>2023-04-28 07:26:08</td>\n",
       "      <td>Twitter</td>\n",
       "      <td>Positive</td>\n",
       "      <td>@ichwankalimasad (IchwanKalimasada)</td>\n",
       "      <td>6556</td>\n",
       "      <td>0</td>\n",
       "      <td>0</td>\n",
       "      <td>aq pilih lah krn dialah yg terbaik dari ketiga...</td>\n",
       "      <td>I chose him because he is the best of the thre...</td>\n",
       "      <td>positif</td>\n",
       "    </tr>\n",
       "    <tr>\n",
       "      <th>4</th>\n",
       "      <td>10004</td>\n",
       "      <td>reply</td>\n",
       "      <td>@Fahrihamzah Semoga Capres dan Cawapres kali i...</td>\n",
       "      <td>2023-04-28 07:26:07</td>\n",
       "      <td>Twitter</td>\n",
       "      <td>Positive</td>\n",
       "      <td>@Andi_futago (@lif)</td>\n",
       "      <td>22</td>\n",
       "      <td>0</td>\n",
       "      <td>0</td>\n",
       "      <td>semoga capres dan cawapres kali ini betul puny...</td>\n",
       "      <td>I hope that the presidential and vice presiden...</td>\n",
       "      <td>positif</td>\n",
       "    </tr>\n",
       "  </tbody>\n",
       "</table>\n",
       "</div>"
      ],
      "text/plain": [
       "   Pilpres 2024 Unnamed: 1                                         Unnamed: 2  \\\n",
       "0         10000         rt  RT @bachrum_achmadi: Said Iqbal Partai Buruh D...   \n",
       "1         10001    mention            Banyak sliweran capres cawapres ,,hemm    \n",
       "2         10002         rt  RT @tvOneNews: Kemarin PSI Bangga Deklarasikan...   \n",
       "3         10003    mention  Aq pilih Ã¢ÂÂ¦@ganjarpranowoÃ¢ÂÂ© lah krn di...   \n",
       "4         10004      reply  @Fahrihamzah Semoga Capres dan Cawapres kali i...   \n",
       "\n",
       "            Unnamed: 3 Unnamed: 4 Unnamed: 5  \\\n",
       "0  2023-04-28 07:26:12    Twitter   Positive   \n",
       "1  2023-04-28 07:26:12    Twitter   Positive   \n",
       "2  2023-04-28 07:26:11    Twitter   Positive   \n",
       "3  2023-04-28 07:26:08    Twitter   Positive   \n",
       "4  2023-04-28 07:26:07    Twitter   Positive   \n",
       "\n",
       "                            Unnamed: 6  Unnamed: 7  Unnamed: 8  Unnamed: 9  \\\n",
       "0        @donnyx17 (donnyx abu hayder)          15         122           0   \n",
       "1            @oxtutiexx235 (mboketata)         459           0           0   \n",
       "2    @DadangBudiman14 (Dadang Budiman)          26         122           0   \n",
       "3  @ichwankalimasad (IchwanKalimasada)        6556           0           0   \n",
       "4                  @Andi_futago (@lif)          22           0           0   \n",
       "\n",
       "                                            Mentions  \\\n",
       "0  said iqbal partai buruh dukung ganjar capres pdip   \n",
       "1               banyak sliweran capres cawapres hemm   \n",
       "2  kemarin psi bangga deklarasikan ganjar capres ...   \n",
       "3  aq pilih lah krn dialah yg terbaik dari ketiga...   \n",
       "4  semoga capres dan cawapres kali ini betul puny...   \n",
       "\n",
       "                                     Translated_Text Sentiment  \n",
       "0  Said Iqbal, the Labor Party supports the PDIP ...   positif  \n",
       "1      lots of presidential cawapres candidates hemm    netral  \n",
       "2  Yesterday, PSI was proud to declare the reward...   positif  \n",
       "3  I chose him because he is the best of the thre...   positif  \n",
       "4  I hope that the presidential and vice presiden...   positif  "
      ]
     },
     "execution_count": 3,
     "metadata": {},
     "output_type": "execute_result"
    }
   ],
   "source": [
    "df.head()"
   ]
  },
  {
   "cell_type": "code",
   "execution_count": 4,
   "id": "1e69e4da",
   "metadata": {},
   "outputs": [],
   "source": [
    "# Preprocessing data\n",
    "df['Mentions'].fillna('', inplace=True)"
   ]
  },
  {
   "cell_type": "code",
   "execution_count": 5,
   "id": "f87cb564",
   "metadata": {},
   "outputs": [],
   "source": [
    "# Encoding kolom target Sentiment\n",
    "label_encoder = LabelEncoder()\n",
    "df['Sentiment'] = label_encoder.fit_transform(df['Sentiment'])"
   ]
  },
  {
   "cell_type": "code",
   "execution_count": 6,
   "id": "e7022f6e",
   "metadata": {},
   "outputs": [],
   "source": [
    "# Split data menjadi data latih dan data uji\n",
    "X = df['Mentions']\n",
    "y = df['Sentiment']\n",
    "X_train, X_test, y_train, y_test = train_test_split(X, y, test_size=0.2, random_state=42)"
   ]
  },
  {
   "cell_type": "code",
   "execution_count": 7,
   "id": "70f3053d",
   "metadata": {},
   "outputs": [],
   "source": [
    "# Ekstraksi fitur teks dengan CountVectorizer\n",
    "vectorizer = CountVectorizer()\n",
    "X_train_vectorized = vectorizer.fit_transform(X_train)\n",
    "X_test_vectorized = vectorizer.transform(X_test)\n"
   ]
  },
  {
   "cell_type": "code",
   "execution_count": 8,
   "id": "8fcb827a",
   "metadata": {},
   "outputs": [
    {
     "data": {
      "text/html": [
       "<style>#sk-container-id-1 {color: black;background-color: white;}#sk-container-id-1 pre{padding: 0;}#sk-container-id-1 div.sk-toggleable {background-color: white;}#sk-container-id-1 label.sk-toggleable__label {cursor: pointer;display: block;width: 100%;margin-bottom: 0;padding: 0.3em;box-sizing: border-box;text-align: center;}#sk-container-id-1 label.sk-toggleable__label-arrow:before {content: \"▸\";float: left;margin-right: 0.25em;color: #696969;}#sk-container-id-1 label.sk-toggleable__label-arrow:hover:before {color: black;}#sk-container-id-1 div.sk-estimator:hover label.sk-toggleable__label-arrow:before {color: black;}#sk-container-id-1 div.sk-toggleable__content {max-height: 0;max-width: 0;overflow: hidden;text-align: left;background-color: #f0f8ff;}#sk-container-id-1 div.sk-toggleable__content pre {margin: 0.2em;color: black;border-radius: 0.25em;background-color: #f0f8ff;}#sk-container-id-1 input.sk-toggleable__control:checked~div.sk-toggleable__content {max-height: 200px;max-width: 100%;overflow: auto;}#sk-container-id-1 input.sk-toggleable__control:checked~label.sk-toggleable__label-arrow:before {content: \"▾\";}#sk-container-id-1 div.sk-estimator input.sk-toggleable__control:checked~label.sk-toggleable__label {background-color: #d4ebff;}#sk-container-id-1 div.sk-label input.sk-toggleable__control:checked~label.sk-toggleable__label {background-color: #d4ebff;}#sk-container-id-1 input.sk-hidden--visually {border: 0;clip: rect(1px 1px 1px 1px);clip: rect(1px, 1px, 1px, 1px);height: 1px;margin: -1px;overflow: hidden;padding: 0;position: absolute;width: 1px;}#sk-container-id-1 div.sk-estimator {font-family: monospace;background-color: #f0f8ff;border: 1px dotted black;border-radius: 0.25em;box-sizing: border-box;margin-bottom: 0.5em;}#sk-container-id-1 div.sk-estimator:hover {background-color: #d4ebff;}#sk-container-id-1 div.sk-parallel-item::after {content: \"\";width: 100%;border-bottom: 1px solid gray;flex-grow: 1;}#sk-container-id-1 div.sk-label:hover label.sk-toggleable__label {background-color: #d4ebff;}#sk-container-id-1 div.sk-serial::before {content: \"\";position: absolute;border-left: 1px solid gray;box-sizing: border-box;top: 0;bottom: 0;left: 50%;z-index: 0;}#sk-container-id-1 div.sk-serial {display: flex;flex-direction: column;align-items: center;background-color: white;padding-right: 0.2em;padding-left: 0.2em;position: relative;}#sk-container-id-1 div.sk-item {position: relative;z-index: 1;}#sk-container-id-1 div.sk-parallel {display: flex;align-items: stretch;justify-content: center;background-color: white;position: relative;}#sk-container-id-1 div.sk-item::before, #sk-container-id-1 div.sk-parallel-item::before {content: \"\";position: absolute;border-left: 1px solid gray;box-sizing: border-box;top: 0;bottom: 0;left: 50%;z-index: -1;}#sk-container-id-1 div.sk-parallel-item {display: flex;flex-direction: column;z-index: 1;position: relative;background-color: white;}#sk-container-id-1 div.sk-parallel-item:first-child::after {align-self: flex-end;width: 50%;}#sk-container-id-1 div.sk-parallel-item:last-child::after {align-self: flex-start;width: 50%;}#sk-container-id-1 div.sk-parallel-item:only-child::after {width: 0;}#sk-container-id-1 div.sk-dashed-wrapped {border: 1px dashed gray;margin: 0 0.4em 0.5em 0.4em;box-sizing: border-box;padding-bottom: 0.4em;background-color: white;}#sk-container-id-1 div.sk-label label {font-family: monospace;font-weight: bold;display: inline-block;line-height: 1.2em;}#sk-container-id-1 div.sk-label-container {text-align: center;}#sk-container-id-1 div.sk-container {/* jupyter's `normalize.less` sets `[hidden] { display: none; }` but bootstrap.min.css set `[hidden] { display: none !important; }` so we also need the `!important` here to be able to override the default hidden behavior on the sphinx rendered scikit-learn.org. See: https://github.com/scikit-learn/scikit-learn/issues/21755 */display: inline-block !important;position: relative;}#sk-container-id-1 div.sk-text-repr-fallback {display: none;}</style><div id=\"sk-container-id-1\" class=\"sk-top-container\"><div class=\"sk-text-repr-fallback\"><pre>XGBClassifier(base_score=None, booster=None, callbacks=None,\n",
       "              colsample_bylevel=None, colsample_bynode=None,\n",
       "              colsample_bytree=None, early_stopping_rounds=None,\n",
       "              enable_categorical=False, eval_metric=None, feature_types=None,\n",
       "              gamma=None, gpu_id=None, grow_policy=None, importance_type=None,\n",
       "              interaction_constraints=None, learning_rate=None, max_bin=None,\n",
       "              max_cat_threshold=None, max_cat_to_onehot=None,\n",
       "              max_delta_step=None, max_depth=5, max_leaves=None,\n",
       "              min_child_weight=None, missing=nan, monotone_constraints=None,\n",
       "              n_estimators=100, n_jobs=None, num_parallel_tree=None,\n",
       "              objective=&#x27;multi:softprob&#x27;, predictor=None, ...)</pre><b>In a Jupyter environment, please rerun this cell to show the HTML representation or trust the notebook. <br />On GitHub, the HTML representation is unable to render, please try loading this page with nbviewer.org.</b></div><div class=\"sk-container\" hidden><div class=\"sk-item\"><div class=\"sk-estimator sk-toggleable\"><input class=\"sk-toggleable__control sk-hidden--visually\" id=\"sk-estimator-id-1\" type=\"checkbox\" checked><label for=\"sk-estimator-id-1\" class=\"sk-toggleable__label sk-toggleable__label-arrow\">XGBClassifier</label><div class=\"sk-toggleable__content\"><pre>XGBClassifier(base_score=None, booster=None, callbacks=None,\n",
       "              colsample_bylevel=None, colsample_bynode=None,\n",
       "              colsample_bytree=None, early_stopping_rounds=None,\n",
       "              enable_categorical=False, eval_metric=None, feature_types=None,\n",
       "              gamma=None, gpu_id=None, grow_policy=None, importance_type=None,\n",
       "              interaction_constraints=None, learning_rate=None, max_bin=None,\n",
       "              max_cat_threshold=None, max_cat_to_onehot=None,\n",
       "              max_delta_step=None, max_depth=5, max_leaves=None,\n",
       "              min_child_weight=None, missing=nan, monotone_constraints=None,\n",
       "              n_estimators=100, n_jobs=None, num_parallel_tree=None,\n",
       "              objective=&#x27;multi:softprob&#x27;, predictor=None, ...)</pre></div></div></div></div></div>"
      ],
      "text/plain": [
       "XGBClassifier(base_score=None, booster=None, callbacks=None,\n",
       "              colsample_bylevel=None, colsample_bynode=None,\n",
       "              colsample_bytree=None, early_stopping_rounds=None,\n",
       "              enable_categorical=False, eval_metric=None, feature_types=None,\n",
       "              gamma=None, gpu_id=None, grow_policy=None, importance_type=None,\n",
       "              interaction_constraints=None, learning_rate=None, max_bin=None,\n",
       "              max_cat_threshold=None, max_cat_to_onehot=None,\n",
       "              max_delta_step=None, max_depth=5, max_leaves=None,\n",
       "              min_child_weight=None, missing=nan, monotone_constraints=None,\n",
       "              n_estimators=100, n_jobs=None, num_parallel_tree=None,\n",
       "              objective='multi:softprob', predictor=None, ...)"
      ]
     },
     "execution_count": 8,
     "metadata": {},
     "output_type": "execute_result"
    }
   ],
   "source": [
    "# Latih model XGBoost dengan hyperparameter yang diatur secara manual\n",
    "model = XGBClassifier(max_depth=5, random_state=42)\n",
    "model.fit(X_train_vectorized, y_train)"
   ]
  },
  {
   "cell_type": "code",
   "execution_count": 9,
   "id": "fa050d6c",
   "metadata": {},
   "outputs": [],
   "source": [
    "# Prediksi data latih dan data uji\n",
    "y_train_pred = model.predict(X_train_vectorized)\n",
    "y_test_pred = model.predict(X_test_vectorized)"
   ]
  },
  {
   "cell_type": "code",
   "execution_count": 10,
   "id": "25e7b357",
   "metadata": {},
   "outputs": [
    {
     "name": "stdout",
     "output_type": "stream",
     "text": [
      "Akurasi Data Latih: 92.16%\n",
      "Akurasi Data Uji: 86.20%\n"
     ]
    }
   ],
   "source": [
    "# Hitung nilai akurasi dari data latih dan data uji\n",
    "train_accuracy = accuracy_score(y_train, y_train_pred)\n",
    "test_accuracy = accuracy_score(y_test, y_test_pred)\n",
    "\n",
    "print(f\"Akurasi Data Latih: {train_accuracy * 100:.2f}%\")\n",
    "print(f\"Akurasi Data Uji: {test_accuracy * 100:.2f}%\")"
   ]
  },
  {
   "cell_type": "code",
   "execution_count": null,
   "id": "af2c5aa0",
   "metadata": {},
   "outputs": [],
   "source": []
  }
 ],
 "metadata": {
  "kernelspec": {
   "display_name": "Python 3 (ipykernel)",
   "language": "python",
   "name": "python3"
  },
  "language_info": {
   "codemirror_mode": {
    "name": "ipython",
    "version": 3
   },
   "file_extension": ".py",
   "mimetype": "text/x-python",
   "name": "python",
   "nbconvert_exporter": "python",
   "pygments_lexer": "ipython3",
   "version": "3.10.9"
  }
 },
 "nbformat": 4,
 "nbformat_minor": 5
}
