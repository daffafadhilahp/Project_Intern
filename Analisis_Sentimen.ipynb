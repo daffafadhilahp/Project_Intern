{
 "cells": [
  {
   "cell_type": "code",
   "execution_count": 1,
   "id": "d3b16464",
   "metadata": {},
   "outputs": [],
   "source": [
    "import pandas as pd\n",
    "import nltk\n",
    "import re\n",
    "from nltk.corpus import stopwords\n",
    "from nltk.tokenize import word_tokenize\n",
    "from nltk.sentiment import SentimentIntensityAnalyzer\n",
    "from vaderSentiment.vaderSentiment import SentimentIntensityAnalyzer\n",
    "from Sastrawi.Stemmer.StemmerFactory import StemmerFactory\n",
    "from deep_translator import GoogleTranslator"
   ]
  },
  {
   "cell_type": "code",
   "execution_count": 2,
   "id": "57f6d0ad",
   "metadata": {},
   "outputs": [
    {
     "name": "stderr",
     "output_type": "stream",
     "text": [
      "[nltk_data] Downloading package punkt to\n",
      "[nltk_data]     C:\\Users\\dfadh\\AppData\\Roaming\\nltk_data...\n",
      "[nltk_data]   Unzipping tokenizers\\punkt.zip.\n",
      "[nltk_data] Downloading package stopwords to\n",
      "[nltk_data]     C:\\Users\\dfadh\\AppData\\Roaming\\nltk_data...\n",
      "[nltk_data]   Unzipping corpora\\stopwords.zip.\n"
     ]
    },
    {
     "data": {
      "text/plain": [
       "True"
      ]
     },
     "execution_count": 2,
     "metadata": {},
     "output_type": "execute_result"
    }
   ],
   "source": [
    "# Instalasi NLTK\n",
    "nltk.download('punkt')\n",
    "nltk.download('stopwords')"
   ]
  },
  {
   "cell_type": "code",
   "execution_count": 3,
   "id": "0137b4ce",
   "metadata": {},
   "outputs": [],
   "source": [
    "# Fungsi untuk membersihkan teks\n",
    "def preprocess_text(text):\n",
    "    # Membersihkan karakter aneh dengan ekspresi reguler\n",
    "    text = re.sub(r'[^\\x00-\\x7F]+', '', text)\n",
    "\n",
    "    # Menghilangkan tautan (URL)\n",
    "    text = re.sub(r'http\\S+|www\\S+|https\\S+', '', text, flags=re.MULTILINE)\n",
    "\n",
    "    # Menghilangkan username atau nama akun dari teks\n",
    "    text = re.sub(r'@\\w+', '', text)\n",
    "\n",
    "    # Mengubah teks menjadi huruf kecil\n",
    "    text = text.lower()\n",
    "\n",
    "    # Menghilangkan \"rt\"\n",
    "    text = re.sub(r'\\brt\\b', '', text)\n",
    "\n",
    "    # Menghilangkan karakter khusus dan angka menggunakan regex\n",
    "    text = re.sub(r'[^\\w\\s]', '', text)\n",
    "\n",
    "    # Menghilangkan hashtag (#)\n",
    "    text = re.sub(r'#\\w+', '', text)\n",
    "\n",
    "    # Tokenisasi kata\n",
    "    words = word_tokenize(text)\n",
    "\n",
    "    # Menghilangkan stopwords (kata-kata yang tidak berarti)\n",
    "    stop_words = set(stopwords.words('indonesian'))\n",
    "    tokens = word_tokenize(text.lower())\n",
    "    filtered_tokens = [word for word in tokens if word.isalpha() and word not in stop_words]\n",
    "\n",
    "    return ' '.join(words)"
   ]
  },
  {
   "cell_type": "code",
   "execution_count": 4,
   "id": "7f9a46e1",
   "metadata": {},
   "outputs": [],
   "source": [
    "# Fungsi untuk mendapatkan sentimen menggunakan VADER Sentiment Analyzer\n",
    "def get_sentiment(text):\n",
    "    sid = SentimentIntensityAnalyzer()\n",
    "    polarity_scores = sid.polarity_scores(text)\n",
    "    if polarity_scores['compound'] >= 0.05:\n",
    "        return 'positif'\n",
    "    elif polarity_scores['compound'] <= -0.05:\n",
    "        return 'negatif'\n",
    "    else:\n",
    "        return 'netral'"
   ]
  },
  {
   "cell_type": "code",
   "execution_count": 6,
   "id": "f95942e2",
   "metadata": {},
   "outputs": [],
   "source": [
    "# Membaca data dari file CSV\n",
    "df = pd.read_csv('C:/Users/dfadh/Downloads/Analisis sentimen/file_potongan_1 (1).csv', encoding='utf-8')"
   ]
  },
  {
   "cell_type": "code",
   "execution_count": 7,
   "id": "f4520f2c",
   "metadata": {},
   "outputs": [
    {
     "data": {
      "text/html": [
       "<div>\n",
       "<style scoped>\n",
       "    .dataframe tbody tr th:only-of-type {\n",
       "        vertical-align: middle;\n",
       "    }\n",
       "\n",
       "    .dataframe tbody tr th {\n",
       "        vertical-align: top;\n",
       "    }\n",
       "\n",
       "    .dataframe thead th {\n",
       "        text-align: right;\n",
       "    }\n",
       "</style>\n",
       "<table border=\"1\" class=\"dataframe\">\n",
       "  <thead>\n",
       "    <tr style=\"text-align: right;\">\n",
       "      <th></th>\n",
       "      <th>Pilpres 2024</th>\n",
       "      <th>Unnamed: 1</th>\n",
       "      <th>Unnamed: 2</th>\n",
       "      <th>Unnamed: 3</th>\n",
       "      <th>Unnamed: 4</th>\n",
       "      <th>Unnamed: 5</th>\n",
       "      <th>Unnamed: 6</th>\n",
       "      <th>Unnamed: 7</th>\n",
       "      <th>Unnamed: 8</th>\n",
       "      <th>Unnamed: 9</th>\n",
       "    </tr>\n",
       "  </thead>\n",
       "  <tbody>\n",
       "    <tr>\n",
       "      <th>0</th>\n",
       "      <td>10000</td>\n",
       "      <td>rt</td>\n",
       "      <td>RT @bachrum_achmadi: Said Iqbal Partai Buruh D...</td>\n",
       "      <td>2023-04-28 07:26:12</td>\n",
       "      <td>Twitter</td>\n",
       "      <td>Positive</td>\n",
       "      <td>@donnyx17 (donnyx abu hayder)</td>\n",
       "      <td>15</td>\n",
       "      <td>122</td>\n",
       "      <td>0</td>\n",
       "    </tr>\n",
       "    <tr>\n",
       "      <th>1</th>\n",
       "      <td>10001</td>\n",
       "      <td>mention</td>\n",
       "      <td>Banyak sliweran capres cawapres ,,hemm</td>\n",
       "      <td>2023-04-28 07:26:12</td>\n",
       "      <td>Twitter</td>\n",
       "      <td>Positive</td>\n",
       "      <td>@oxtutiexx235 (mboketata)</td>\n",
       "      <td>459</td>\n",
       "      <td>0</td>\n",
       "      <td>0</td>\n",
       "    </tr>\n",
       "    <tr>\n",
       "      <th>2</th>\n",
       "      <td>10002</td>\n",
       "      <td>rt</td>\n",
       "      <td>RT @tvOneNews: Kemarin PSI Bangga Deklarasikan...</td>\n",
       "      <td>2023-04-28 07:26:11</td>\n",
       "      <td>Twitter</td>\n",
       "      <td>Positive</td>\n",
       "      <td>@DadangBudiman14 (Dadang Budiman)</td>\n",
       "      <td>26</td>\n",
       "      <td>122</td>\n",
       "      <td>0</td>\n",
       "    </tr>\n",
       "    <tr>\n",
       "      <th>3</th>\n",
       "      <td>10003</td>\n",
       "      <td>mention</td>\n",
       "      <td>Aq pilih Ã¢ÂÂ¦@ganjarpranowoÃ¢ÂÂ© lah krn di...</td>\n",
       "      <td>2023-04-28 07:26:08</td>\n",
       "      <td>Twitter</td>\n",
       "      <td>Positive</td>\n",
       "      <td>@ichwankalimasad (IchwanKalimasada)</td>\n",
       "      <td>6556</td>\n",
       "      <td>0</td>\n",
       "      <td>0</td>\n",
       "    </tr>\n",
       "    <tr>\n",
       "      <th>4</th>\n",
       "      <td>10004</td>\n",
       "      <td>reply</td>\n",
       "      <td>@Fahrihamzah Semoga Capres dan Cawapres kali i...</td>\n",
       "      <td>2023-04-28 07:26:07</td>\n",
       "      <td>Twitter</td>\n",
       "      <td>Positive</td>\n",
       "      <td>@Andi_futago (@lif)</td>\n",
       "      <td>22</td>\n",
       "      <td>0</td>\n",
       "      <td>0</td>\n",
       "    </tr>\n",
       "  </tbody>\n",
       "</table>\n",
       "</div>"
      ],
      "text/plain": [
       "   Pilpres 2024 Unnamed: 1                                         Unnamed: 2  \\\n",
       "0         10000         rt  RT @bachrum_achmadi: Said Iqbal Partai Buruh D...   \n",
       "1         10001    mention            Banyak sliweran capres cawapres ,,hemm    \n",
       "2         10002         rt  RT @tvOneNews: Kemarin PSI Bangga Deklarasikan...   \n",
       "3         10003    mention  Aq pilih Ã¢ÂÂ¦@ganjarpranowoÃ¢ÂÂ© lah krn di...   \n",
       "4         10004      reply  @Fahrihamzah Semoga Capres dan Cawapres kali i...   \n",
       "\n",
       "            Unnamed: 3 Unnamed: 4 Unnamed: 5  \\\n",
       "0  2023-04-28 07:26:12    Twitter   Positive   \n",
       "1  2023-04-28 07:26:12    Twitter   Positive   \n",
       "2  2023-04-28 07:26:11    Twitter   Positive   \n",
       "3  2023-04-28 07:26:08    Twitter   Positive   \n",
       "4  2023-04-28 07:26:07    Twitter   Positive   \n",
       "\n",
       "                            Unnamed: 6  Unnamed: 7  Unnamed: 8  Unnamed: 9  \n",
       "0        @donnyx17 (donnyx abu hayder)          15         122           0  \n",
       "1            @oxtutiexx235 (mboketata)         459           0           0  \n",
       "2    @DadangBudiman14 (Dadang Budiman)          26         122           0  \n",
       "3  @ichwankalimasad (IchwanKalimasada)        6556           0           0  \n",
       "4                  @Andi_futago (@lif)          22           0           0  "
      ]
     },
     "execution_count": 7,
     "metadata": {},
     "output_type": "execute_result"
    }
   ],
   "source": [
    "df.head()"
   ]
  },
  {
   "cell_type": "code",
   "execution_count": 8,
   "id": "706e7125",
   "metadata": {},
   "outputs": [],
   "source": [
    "# Pra-pemrosesan teks\n",
    "df['Mentions'] = df['Unnamed: 2'].apply(preprocess_text)\n"
   ]
  },
  {
   "cell_type": "code",
   "execution_count": 9,
   "id": "f85e554e",
   "metadata": {},
   "outputs": [],
   "source": [
    "# Terjemahkan teks dari bahasa Indonesia ke bahasa Inggris\n",
    "df['Translated_Text'] = df['Mentions'].apply(lambda x: GoogleTranslator(source='id', target='en').translate(x))"
   ]
  },
  {
   "cell_type": "code",
   "execution_count": 10,
   "id": "a6d44d75",
   "metadata": {},
   "outputs": [],
   "source": [
    "# Menentukan sentimen menggunakan VADER Sentiment Analyzer pada teks terjemahan\n",
    "df['Sentiment'] = df['Translated_Text'].apply(get_sentiment)"
   ]
  },
  {
   "cell_type": "code",
   "execution_count": 11,
   "id": "4c9f3d2a",
   "metadata": {},
   "outputs": [
    {
     "name": "stdout",
     "output_type": "stream",
     "text": [
      "                                               Mentions Sentiment\n",
      "0     said iqbal partai buruh dukung ganjar capres pdip   positif\n",
      "1                  banyak sliweran capres cawapres hemm    netral\n",
      "2     kemarin psi bangga deklarasikan ganjar capres ...   positif\n",
      "3     aq pilih lah krn dialah yg terbaik dari ketiga...   positif\n",
      "4     semoga capres dan cawapres kali ini betul puny...   positif\n",
      "...                                                 ...       ...\n",
      "9995  4 perbuatan tak netral jokowi di pilpres 2024 ...   positif\n",
      "9996  kebencian si palsu ijazah berlanjut dengan kal...   negatif\n",
      "9997  jadi gini anies itu katanya elektabilitas hasi...   negatif\n",
      "9998  linda menyampaikan sejumlah pertimbangan pihak...   positif\n",
      "9999  orang pdip sebut sby harus netral di pilpres k...    netral\n",
      "\n",
      "[10000 rows x 2 columns]\n"
     ]
    }
   ],
   "source": [
    "# Menampilkan hasil\n",
    "print(df[['Mentions', 'Sentiment']])"
   ]
  },
  {
   "cell_type": "code",
   "execution_count": 11,
   "id": "58c7152f",
   "metadata": {},
   "outputs": [],
   "source": [
    "# Simpan DataFrame ke dalam file CSV\n",
    "df.to_csv('hasil__Analisis.csv', index=False)"
   ]
  },
  {
   "cell_type": "code",
   "execution_count": null,
   "id": "264c7fc8",
   "metadata": {},
   "outputs": [],
   "source": []
  }
 ],
 "metadata": {
  "kernelspec": {
   "display_name": "Python 3 (ipykernel)",
   "language": "python",
   "name": "python3"
  },
  "language_info": {
   "codemirror_mode": {
    "name": "ipython",
    "version": 3
   },
   "file_extension": ".py",
   "mimetype": "text/x-python",
   "name": "python",
   "nbconvert_exporter": "python",
   "pygments_lexer": "ipython3",
   "version": "3.10.9"
  }
 },
 "nbformat": 4,
 "nbformat_minor": 5
}
