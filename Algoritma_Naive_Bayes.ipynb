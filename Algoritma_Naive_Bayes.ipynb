{
 "cells": [
  {
   "cell_type": "code",
   "execution_count": 1,
   "id": "c9af7ca5",
   "metadata": {},
   "outputs": [],
   "source": [
    "import pandas as pd\n",
    "from sklearn.model_selection import train_test_split, cross_val_score\n",
    "from sklearn.feature_extraction.text import CountVectorizer\n",
    "from sklearn.naive_bayes import MultinomialNB\n",
    "from sklearn.metrics import accuracy_score, confusion_matrix"
   ]
  },
  {
   "cell_type": "code",
   "execution_count": null,
   "id": "02487d04",
   "metadata": {},
   "outputs": [],
   "source": [
    "# Baca data dari file CSV\n",
    "df = pd.read_csv('C:/Users/dfadh/Downloads/hasil__Analisis.csv')"
   ]
  },
  {
   "cell_type": "code",
   "execution_count": 3,
   "id": "26e6db4f",
   "metadata": {},
   "outputs": [],
   "source": [
    "# Mengisi nilai np.nan dengan string kosong ('')\n",
    "df['Mentions'].fillna('', inplace=True)"
   ]
  },
  {
   "cell_type": "code",
   "execution_count": 4,
   "id": "a497fca9",
   "metadata": {},
   "outputs": [
    {
     "data": {
      "text/html": [
       "<div>\n",
       "<style scoped>\n",
       "    .dataframe tbody tr th:only-of-type {\n",
       "        vertical-align: middle;\n",
       "    }\n",
       "\n",
       "    .dataframe tbody tr th {\n",
       "        vertical-align: top;\n",
       "    }\n",
       "\n",
       "    .dataframe thead th {\n",
       "        text-align: right;\n",
       "    }\n",
       "</style>\n",
       "<table border=\"1\" class=\"dataframe\">\n",
       "  <thead>\n",
       "    <tr style=\"text-align: right;\">\n",
       "      <th></th>\n",
       "      <th>Pilpres 2024</th>\n",
       "      <th>Unnamed: 1</th>\n",
       "      <th>Unnamed: 2</th>\n",
       "      <th>Unnamed: 3</th>\n",
       "      <th>Unnamed: 4</th>\n",
       "      <th>Unnamed: 5</th>\n",
       "      <th>Unnamed: 6</th>\n",
       "      <th>Unnamed: 7</th>\n",
       "      <th>Unnamed: 8</th>\n",
       "      <th>Unnamed: 9</th>\n",
       "      <th>Mentions</th>\n",
       "      <th>Translated_Text</th>\n",
       "      <th>Sentiment</th>\n",
       "    </tr>\n",
       "  </thead>\n",
       "  <tbody>\n",
       "    <tr>\n",
       "      <th>0</th>\n",
       "      <td>10000</td>\n",
       "      <td>rt</td>\n",
       "      <td>RT @bachrum_achmadi: Said Iqbal Partai Buruh D...</td>\n",
       "      <td>2023-04-28 07:26:12</td>\n",
       "      <td>Twitter</td>\n",
       "      <td>Positive</td>\n",
       "      <td>@donnyx17 (donnyx abu hayder)</td>\n",
       "      <td>15</td>\n",
       "      <td>122</td>\n",
       "      <td>0</td>\n",
       "      <td>said iqbal partai buruh dukung ganjar capres pdip</td>\n",
       "      <td>Said Iqbal, the Labor Party supports the PDIP ...</td>\n",
       "      <td>positif</td>\n",
       "    </tr>\n",
       "    <tr>\n",
       "      <th>1</th>\n",
       "      <td>10001</td>\n",
       "      <td>mention</td>\n",
       "      <td>Banyak sliweran capres cawapres ,,hemm</td>\n",
       "      <td>2023-04-28 07:26:12</td>\n",
       "      <td>Twitter</td>\n",
       "      <td>Positive</td>\n",
       "      <td>@oxtutiexx235 (mboketata)</td>\n",
       "      <td>459</td>\n",
       "      <td>0</td>\n",
       "      <td>0</td>\n",
       "      <td>banyak sliweran capres cawapres hemm</td>\n",
       "      <td>lots of presidential cawapres candidates hemm</td>\n",
       "      <td>netral</td>\n",
       "    </tr>\n",
       "    <tr>\n",
       "      <th>2</th>\n",
       "      <td>10002</td>\n",
       "      <td>rt</td>\n",
       "      <td>RT @tvOneNews: Kemarin PSI Bangga Deklarasikan...</td>\n",
       "      <td>2023-04-28 07:26:11</td>\n",
       "      <td>Twitter</td>\n",
       "      <td>Positive</td>\n",
       "      <td>@DadangBudiman14 (Dadang Budiman)</td>\n",
       "      <td>26</td>\n",
       "      <td>122</td>\n",
       "      <td>0</td>\n",
       "      <td>kemarin psi bangga deklarasikan ganjar capres ...</td>\n",
       "      <td>Yesterday, PSI was proud to declare the reward...</td>\n",
       "      <td>positif</td>\n",
       "    </tr>\n",
       "    <tr>\n",
       "      <th>3</th>\n",
       "      <td>10003</td>\n",
       "      <td>mention</td>\n",
       "      <td>Aq pilih Ã¢ÂÂ¦@ganjarpranowoÃ¢ÂÂ© lah krn di...</td>\n",
       "      <td>2023-04-28 07:26:08</td>\n",
       "      <td>Twitter</td>\n",
       "      <td>Positive</td>\n",
       "      <td>@ichwankalimasad (IchwanKalimasada)</td>\n",
       "      <td>6556</td>\n",
       "      <td>0</td>\n",
       "      <td>0</td>\n",
       "      <td>aq pilih lah krn dialah yg terbaik dari ketiga...</td>\n",
       "      <td>I chose him because he is the best of the thre...</td>\n",
       "      <td>positif</td>\n",
       "    </tr>\n",
       "    <tr>\n",
       "      <th>4</th>\n",
       "      <td>10004</td>\n",
       "      <td>reply</td>\n",
       "      <td>@Fahrihamzah Semoga Capres dan Cawapres kali i...</td>\n",
       "      <td>2023-04-28 07:26:07</td>\n",
       "      <td>Twitter</td>\n",
       "      <td>Positive</td>\n",
       "      <td>@Andi_futago (@lif)</td>\n",
       "      <td>22</td>\n",
       "      <td>0</td>\n",
       "      <td>0</td>\n",
       "      <td>semoga capres dan cawapres kali ini betul puny...</td>\n",
       "      <td>I hope that the presidential and vice presiden...</td>\n",
       "      <td>positif</td>\n",
       "    </tr>\n",
       "  </tbody>\n",
       "</table>\n",
       "</div>"
      ],
      "text/plain": [
       "   Pilpres 2024 Unnamed: 1                                         Unnamed: 2  \\\n",
       "0         10000         rt  RT @bachrum_achmadi: Said Iqbal Partai Buruh D...   \n",
       "1         10001    mention            Banyak sliweran capres cawapres ,,hemm    \n",
       "2         10002         rt  RT @tvOneNews: Kemarin PSI Bangga Deklarasikan...   \n",
       "3         10003    mention  Aq pilih Ã¢ÂÂ¦@ganjarpranowoÃ¢ÂÂ© lah krn di...   \n",
       "4         10004      reply  @Fahrihamzah Semoga Capres dan Cawapres kali i...   \n",
       "\n",
       "            Unnamed: 3 Unnamed: 4 Unnamed: 5  \\\n",
       "0  2023-04-28 07:26:12    Twitter   Positive   \n",
       "1  2023-04-28 07:26:12    Twitter   Positive   \n",
       "2  2023-04-28 07:26:11    Twitter   Positive   \n",
       "3  2023-04-28 07:26:08    Twitter   Positive   \n",
       "4  2023-04-28 07:26:07    Twitter   Positive   \n",
       "\n",
       "                            Unnamed: 6  Unnamed: 7  Unnamed: 8  Unnamed: 9  \\\n",
       "0        @donnyx17 (donnyx abu hayder)          15         122           0   \n",
       "1            @oxtutiexx235 (mboketata)         459           0           0   \n",
       "2    @DadangBudiman14 (Dadang Budiman)          26         122           0   \n",
       "3  @ichwankalimasad (IchwanKalimasada)        6556           0           0   \n",
       "4                  @Andi_futago (@lif)          22           0           0   \n",
       "\n",
       "                                            Mentions  \\\n",
       "0  said iqbal partai buruh dukung ganjar capres pdip   \n",
       "1               banyak sliweran capres cawapres hemm   \n",
       "2  kemarin psi bangga deklarasikan ganjar capres ...   \n",
       "3  aq pilih lah krn dialah yg terbaik dari ketiga...   \n",
       "4  semoga capres dan cawapres kali ini betul puny...   \n",
       "\n",
       "                                     Translated_Text Sentiment  \n",
       "0  Said Iqbal, the Labor Party supports the PDIP ...   positif  \n",
       "1      lots of presidential cawapres candidates hemm    netral  \n",
       "2  Yesterday, PSI was proud to declare the reward...   positif  \n",
       "3  I chose him because he is the best of the thre...   positif  \n",
       "4  I hope that the presidential and vice presiden...   positif  "
      ]
     },
     "execution_count": 4,
     "metadata": {},
     "output_type": "execute_result"
    }
   ],
   "source": [
    "df.head()"
   ]
  },
  {
   "cell_type": "code",
   "execution_count": 6,
   "id": "909dd2e8",
   "metadata": {},
   "outputs": [],
   "source": [
    "# Pisahkan teks dan label\n",
    "texts = df['Mentions'].values\n",
    "labels = df['Sentiment'].values"
   ]
  },
  {
   "cell_type": "code",
   "execution_count": 7,
   "id": "c41d397a",
   "metadata": {},
   "outputs": [],
   "source": [
    "# Bagi data menjadi data pelatihan dan data uji\n",
    "texts_train, texts_test, labels_train, labels_test = train_test_split(texts, labels, test_size=0.2, random_state=42)"
   ]
  },
  {
   "cell_type": "code",
   "execution_count": 8,
   "id": "175d8ad3",
   "metadata": {},
   "outputs": [],
   "source": [
    "# Ubah teks menjadi representasi vektor dengan menggunakan CountVectorizer\n",
    "vectorizer = CountVectorizer()\n",
    "X_train = vectorizer.fit_transform(texts_train)\n",
    "X_test = vectorizer.transform(texts_test)"
   ]
  },
  {
   "cell_type": "code",
   "execution_count": 25,
   "id": "9c337138",
   "metadata": {},
   "outputs": [
    {
     "data": {
      "text/html": [
       "<style>#sk-container-id-5 {color: black;background-color: white;}#sk-container-id-5 pre{padding: 0;}#sk-container-id-5 div.sk-toggleable {background-color: white;}#sk-container-id-5 label.sk-toggleable__label {cursor: pointer;display: block;width: 100%;margin-bottom: 0;padding: 0.3em;box-sizing: border-box;text-align: center;}#sk-container-id-5 label.sk-toggleable__label-arrow:before {content: \"▸\";float: left;margin-right: 0.25em;color: #696969;}#sk-container-id-5 label.sk-toggleable__label-arrow:hover:before {color: black;}#sk-container-id-5 div.sk-estimator:hover label.sk-toggleable__label-arrow:before {color: black;}#sk-container-id-5 div.sk-toggleable__content {max-height: 0;max-width: 0;overflow: hidden;text-align: left;background-color: #f0f8ff;}#sk-container-id-5 div.sk-toggleable__content pre {margin: 0.2em;color: black;border-radius: 0.25em;background-color: #f0f8ff;}#sk-container-id-5 input.sk-toggleable__control:checked~div.sk-toggleable__content {max-height: 200px;max-width: 100%;overflow: auto;}#sk-container-id-5 input.sk-toggleable__control:checked~label.sk-toggleable__label-arrow:before {content: \"▾\";}#sk-container-id-5 div.sk-estimator input.sk-toggleable__control:checked~label.sk-toggleable__label {background-color: #d4ebff;}#sk-container-id-5 div.sk-label input.sk-toggleable__control:checked~label.sk-toggleable__label {background-color: #d4ebff;}#sk-container-id-5 input.sk-hidden--visually {border: 0;clip: rect(1px 1px 1px 1px);clip: rect(1px, 1px, 1px, 1px);height: 1px;margin: -1px;overflow: hidden;padding: 0;position: absolute;width: 1px;}#sk-container-id-5 div.sk-estimator {font-family: monospace;background-color: #f0f8ff;border: 1px dotted black;border-radius: 0.25em;box-sizing: border-box;margin-bottom: 0.5em;}#sk-container-id-5 div.sk-estimator:hover {background-color: #d4ebff;}#sk-container-id-5 div.sk-parallel-item::after {content: \"\";width: 100%;border-bottom: 1px solid gray;flex-grow: 1;}#sk-container-id-5 div.sk-label:hover label.sk-toggleable__label {background-color: #d4ebff;}#sk-container-id-5 div.sk-serial::before {content: \"\";position: absolute;border-left: 1px solid gray;box-sizing: border-box;top: 0;bottom: 0;left: 50%;z-index: 0;}#sk-container-id-5 div.sk-serial {display: flex;flex-direction: column;align-items: center;background-color: white;padding-right: 0.2em;padding-left: 0.2em;position: relative;}#sk-container-id-5 div.sk-item {position: relative;z-index: 1;}#sk-container-id-5 div.sk-parallel {display: flex;align-items: stretch;justify-content: center;background-color: white;position: relative;}#sk-container-id-5 div.sk-item::before, #sk-container-id-5 div.sk-parallel-item::before {content: \"\";position: absolute;border-left: 1px solid gray;box-sizing: border-box;top: 0;bottom: 0;left: 50%;z-index: -1;}#sk-container-id-5 div.sk-parallel-item {display: flex;flex-direction: column;z-index: 1;position: relative;background-color: white;}#sk-container-id-5 div.sk-parallel-item:first-child::after {align-self: flex-end;width: 50%;}#sk-container-id-5 div.sk-parallel-item:last-child::after {align-self: flex-start;width: 50%;}#sk-container-id-5 div.sk-parallel-item:only-child::after {width: 0;}#sk-container-id-5 div.sk-dashed-wrapped {border: 1px dashed gray;margin: 0 0.4em 0.5em 0.4em;box-sizing: border-box;padding-bottom: 0.4em;background-color: white;}#sk-container-id-5 div.sk-label label {font-family: monospace;font-weight: bold;display: inline-block;line-height: 1.2em;}#sk-container-id-5 div.sk-label-container {text-align: center;}#sk-container-id-5 div.sk-container {/* jupyter's `normalize.less` sets `[hidden] { display: none; }` but bootstrap.min.css set `[hidden] { display: none !important; }` so we also need the `!important` here to be able to override the default hidden behavior on the sphinx rendered scikit-learn.org. See: https://github.com/scikit-learn/scikit-learn/issues/21755 */display: inline-block !important;position: relative;}#sk-container-id-5 div.sk-text-repr-fallback {display: none;}</style><div id=\"sk-container-id-5\" class=\"sk-top-container\"><div class=\"sk-text-repr-fallback\"><pre>MultinomialNB(alpha=0.1)</pre><b>In a Jupyter environment, please rerun this cell to show the HTML representation or trust the notebook. <br />On GitHub, the HTML representation is unable to render, please try loading this page with nbviewer.org.</b></div><div class=\"sk-container\" hidden><div class=\"sk-item\"><div class=\"sk-estimator sk-toggleable\"><input class=\"sk-toggleable__control sk-hidden--visually\" id=\"sk-estimator-id-5\" type=\"checkbox\" checked><label for=\"sk-estimator-id-5\" class=\"sk-toggleable__label sk-toggleable__label-arrow\">MultinomialNB</label><div class=\"sk-toggleable__content\"><pre>MultinomialNB(alpha=0.1)</pre></div></div></div></div></div>"
      ],
      "text/plain": [
       "MultinomialNB(alpha=0.1)"
      ]
     },
     "execution_count": 25,
     "metadata": {},
     "output_type": "execute_result"
    }
   ],
   "source": [
    "# Latih model Naive Bayes\n",
    "naive_bayes = MultinomialNB(alpha = 0.1)\n",
    "naive_bayes.fit(X_train, labels_train)"
   ]
  },
  {
   "cell_type": "code",
   "execution_count": 26,
   "id": "26330a2f",
   "metadata": {},
   "outputs": [],
   "source": [
    "# Lakukan prediksi pada data latih dan data uji\n",
    "predictions_train = naive_bayes.predict(X_train)\n",
    "predictions_test = naive_bayes.predict(X_test)"
   ]
  },
  {
   "cell_type": "code",
   "execution_count": 27,
   "id": "25a21c5b",
   "metadata": {},
   "outputs": [
    {
     "name": "stdout",
     "output_type": "stream",
     "text": [
      "Akurasi Data Latih: 93.40%\n",
      "Akurasi Data Uji: 85.40%\n"
     ]
    }
   ],
   "source": [
    "# Hitung tingkat akurasi data latih dan data uji\n",
    "accuracy_train = accuracy_score(labels_train, predictions_train)\n",
    "accuracy_test = accuracy_score(labels_test, predictions_test)\n",
    "\n",
    "print(f\"Akurasi Data Latih: {accuracy_train * 100:.2f}%\")\n",
    "print(f\"Akurasi Data Uji: {accuracy_test * 100:.2f}%\")\n"
   ]
  },
  {
   "cell_type": "code",
   "execution_count": 28,
   "id": "7e3a0ff1",
   "metadata": {},
   "outputs": [
    {
     "name": "stdout",
     "output_type": "stream",
     "text": [
      "Confusion Matrix:\n",
      "[[ 352   25   70]\n",
      " [   9  347  111]\n",
      " [  26   51 1009]]\n"
     ]
    }
   ],
   "source": [
    "# Cetak confusion matrix untuk melihat lebih detail performa model pada data uji\n",
    "confusion_mat = confusion_matrix(labels_test, predictions_test)\n",
    "print(\"Confusion Matrix:\")\n",
    "print(confusion_mat)"
   ]
  }
 ],
 "metadata": {
  "kernelspec": {
   "display_name": "Python 3 (ipykernel)",
   "language": "python",
   "name": "python3"
  },
  "language_info": {
   "codemirror_mode": {
    "name": "ipython",
    "version": 3
   },
   "file_extension": ".py",
   "mimetype": "text/x-python",
   "name": "python",
   "nbconvert_exporter": "python",
   "pygments_lexer": "ipython3",
   "version": "3.11.3"
  }
 },
 "nbformat": 4,
 "nbformat_minor": 5
}
